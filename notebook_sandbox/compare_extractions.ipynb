{
 "cells": [
  {
   "metadata": {},
   "cell_type": "markdown",
   "source": [
    "# Extraction algorithm comparison\n",
    "\n",
    "We create a synthetic 2D image, upon which we compare the results of `specreduce`'s `BoxcarExtract` and `HorneExtract` algorithms.\n",
    "\n",
    "Since we control amplitude/uncertainty/etc., we can check that the results match our expectations. Among other things, we expect the Horne extraction's signal-to-noise ratio to outperform the boxcar's when using the whole scene as the aperture."
   ],
   "id": "e90e12a515e145e4"
  },
  {
   "metadata": {},
   "cell_type": "markdown",
   "source": "## Import packages",
   "id": "3e96a678b6bbdc01"
  },
  {
   "metadata": {},
   "cell_type": "code",
   "outputs": [],
   "execution_count": null,
   "source": [
    "import astropy.units as u\n",
    "import matplotlib as mpl\n",
    "import matplotlib.pyplot as plt\n",
    "import numpy as np\n",
    "from astropy.modeling import models\n",
    "from astropy.nddata import CCDData, VarianceUncertainty\n",
    "from specreduce.extract import BoxcarExtract, HorneExtract\n",
    "from specreduce.tracing import FlatTrace"
   ],
   "id": "dfc7fa7d74146ac4"
  },
  {
   "metadata": {},
   "cell_type": "code",
   "outputs": [],
   "execution_count": null,
   "source": [
    "mpl.rcParams.update({'axes.titlesize': 18, 'axes.labelsize': 12,\n",
    "                     'legend.fontsize': 12,  'axes.grid': False,\n",
    "                     'grid.alpha': .5, 'grid.color': 'k',\n",
    "                     'axes.edgecolor': 'k'})\n",
    "np.random.seed(7) # use same random values in different sessions"
   ],
   "id": "31d03d7febb6b07c"
  },
  {
   "metadata": {},
   "cell_type": "markdown",
   "source": [
    "## Create a 2D image\n",
    "\n",
    "The flux in each column will follow a Gaussian distribution that we set using `astropy`'s modeling functionality.\n",
    "\n",
    "We also add normally distributed noise throughout the image to make the extraction more difficult."
   ],
   "id": "8019455fcc2a41d5"
  },
  {
   "metadata": {},
   "cell_type": "code",
   "outputs": [],
   "execution_count": null,
   "source": [
    "nrows = 50*4\n",
    "ncols = 40*4\n",
    "sigma_pix = 4\n",
    "sigma_noise = 1"
   ],
   "id": "cba1910c63fbf143"
  },
  {
   "metadata": {},
   "cell_type": "code",
   "outputs": [],
   "execution_count": null,
   "source": [
    "col_model = models.Gaussian1D(amplitude=1, mean=nrows/2, stddev=sigma_pix)\n",
    "noise = np.random.normal(scale=sigma_noise, size=(nrows, ncols))"
   ],
   "id": "52e2767921465621"
  },
  {
   "metadata": {},
   "cell_type": "code",
   "outputs": [],
   "execution_count": null,
   "source": [
    "index_arr = np.broadcast_to(np.arange(nrows)[:, np.newaxis], (nrows, ncols))\n",
    "index_arr"
   ],
   "id": "b390c4c4b23f452f"
  },
  {
   "metadata": {},
   "cell_type": "code",
   "outputs": [],
   "execution_count": null,
   "source": "img = col_model(index_arr) + noise",
   "id": "8b9af6c553d6e0ae"
  },
  {
   "metadata": {},
   "cell_type": "code",
   "outputs": [],
   "execution_count": null,
   "source": [
    "fig, ax = plt.subplots(figsize=(10,8))\n",
    "im1 = ax.imshow(img, cmap='magma', origin='lower', vmin=0, vmax=1)\n",
    "ax.set_title('synthetic 2D image')\n",
    "fig.colorbar(im1)"
   ],
   "id": "b645fd80b47f1906"
  },
  {
   "metadata": {},
   "cell_type": "markdown",
   "source": "In addition to the image, we also create variance and mask images for `HorneExtract`. The former was defined above; we use an array of zeros for the latter since this image has no \"bad\" pixels.",
   "id": "1f863a76703c7f36"
  },
  {
   "metadata": {},
   "cell_type": "code",
   "outputs": [],
   "execution_count": null,
   "source": [
    "variance = np.tile(sigma_noise, img.shape)\n",
    "mask = np.zeros_like(img)"
   ],
   "id": "42da99a75e63f527"
  },
  {
   "metadata": {},
   "cell_type": "markdown",
   "source": [
    "## Create a trace\n",
    "\n",
    "Here, we manually set the trace to the middle row of the 2D image's y-axis."
   ],
   "id": "f371bae11156cf7c"
  },
  {
   "metadata": {},
   "cell_type": "code",
   "outputs": [],
   "execution_count": null,
   "source": "trace = FlatTrace(img, nrows/2)",
   "id": "1f553a70c6946797"
  },
  {
   "metadata": {},
   "cell_type": "markdown",
   "source": "## Calculate the extractions",
   "id": "5d51976ee8ea5ded"
  },
  {
   "metadata": {},
   "cell_type": "code",
   "outputs": [],
   "execution_count": null,
   "source": [
    "bxc = BoxcarExtract(img, trace)\n",
    "bxc_result1d_slice = bxc(width=14)\n",
    "bxc_result1d_whole = bxc(width=nrows)"
   ],
   "id": "ad7e8842ed76823f"
  },
  {
   "metadata": {},
   "cell_type": "code",
   "outputs": [],
   "execution_count": null,
   "source": [
    "hrn = HorneExtract(img, trace)\n",
    "hrn_result1d_whole = hrn(variance=variance,\n",
    "                         mask=mask, unit=u.DN) # whole image is aperture"
   ],
   "id": "4a0ce602d2bcb547"
  },
  {
   "metadata": {},
   "cell_type": "markdown",
   "source": [
    "Note that `HorneExtract` can also take an `NDData` or `CCDData` image object as an argument. These are convenient because they allow for compiling the image, the variance, a mask, and any units into a single object. \n",
    "\n",
    "Once that's created, the only other argument needed is the trace. See this example with `CCDData`:"
   ],
   "id": "293f2105a34fb6a8"
  },
  {
   "metadata": {},
   "cell_type": "code",
   "outputs": [],
   "execution_count": null,
   "source": [
    "mask = np.zeros_like(img)\n",
    "var_obj = VarianceUncertainty(variance)\n",
    "img_obj = CCDData(img, uncertainty=var_obj, mask=mask, unit=u.DN)\n",
    "\n",
    "hrn2 = HorneExtract(img_obj, trace)\n",
    "hrn2_result1d_whole = hrn2()"
   ],
   "id": "cd8095c84b2c2f6a"
  },
  {
   "metadata": {},
   "cell_type": "markdown",
   "source": "The results are the same either way:",
   "id": "d24f7080fe5d718"
  },
  {
   "metadata": {},
   "cell_type": "code",
   "outputs": [],
   "execution_count": null,
   "source": "np.array_equal(hrn_result1d_whole.flux, hrn2_result1d_whole.flux)",
   "id": "83b0a4df47aff159"
  },
  {
   "metadata": {},
   "cell_type": "markdown",
   "source": [
    "## Compare results\n",
    "The whole-image extractions come out as expected, with the Horne-extracted 1D spectrum showing a noticeably better signal-to-noise ratio than its windowless boxcar equivalent."
   ],
   "id": "a2b771a90d72a9f8"
  },
  {
   "metadata": {},
   "cell_type": "code",
   "outputs": [],
   "execution_count": null,
   "source": [
    "fig2, ax2 = plt.subplots(figsize=(10, 8))\n",
    "\n",
    "ax2.plot(hrn_result1d_whole.flux, c='#1d1160', label='1D spectrum, Horne, whole')\n",
    "ax2.plot(bxc_result1d_whole.flux, c='cadetblue',\n",
    "         label='1D spectrum, boxcar, whole', alpha=.5)\n",
    "ax2.plot(bxc_result1d_slice.flux, c='cadetblue', linestyle='--',\n",
    "         label='1D spectrum, boxcar, slice')\n",
    "ax2.axhline(sigma_pix * np.sqrt(2*np.pi), c='#d4bd8a', linestyle='--',\n",
    "            label=r'target ($\\sigma_{spatial}$ * $\\sqrt{2\\pi}$)')\n",
    "\n",
    "ax2.legend(fontsize=12)#, loc=(1.05,.5))\n",
    "ax2.set_title('extracted 1D spectra')"
   ],
   "id": "183c44d576699870"
  },
  {
   "metadata": {},
   "cell_type": "markdown",
   "source": "The boxcar extraction can produce a similar result when its aperture is sliced to remove edge pixels. (Of course, that comes with the cost of losing any information those pixels contained.)",
   "id": "e51712c915ba677a"
  },
  {
   "metadata": {},
   "cell_type": "code",
   "outputs": [],
   "execution_count": null,
   "source": [
    "fig3, ax3 = plt.subplots(figsize=(10, 4))\n",
    "\n",
    "ax3.plot(hrn_result1d_whole.flux / np.nanmax(hrn_result1d_whole.flux),\n",
    "         c='#1d1160', label='1D spectrum, Horne, whole')\n",
    "# ax3.plot(bxc_result1d_whole.flux / np.nanmax(bxc_result1d_whole.flux),\n",
    "#          c='cadetblue', label='1D spectrum, boxcar, whole')\n",
    "ax3.plot(bxc_result1d_slice.flux / np.nanmax(bxc_result1d_slice.flux),\n",
    "         c='cadetblue', label='1D spectrum, boxcar, slice', linestyle='--')\n",
    "\n",
    "ax3.legend(fontsize=12)\n",
    "ax3.set_title('extracted 1D spectra, normalized')"
   ],
   "id": "df071df274a6adfb"
  },
  {
   "metadata": {},
   "cell_type": "code",
   "outputs": [],
   "execution_count": null,
   "source": "",
   "id": "81ff37acb6a2c7c5"
  }
 ],
 "metadata": {
  "kernelspec": {
   "display_name": "Python 3",
   "language": "python",
   "name": "python3"
  },
  "language_info": {
   "codemirror_mode": {
    "name": "ipython",
    "version": 3
   },
   "file_extension": ".py",
   "mimetype": "text/x-python",
   "name": "python",
   "nbconvert_exporter": "python",
   "pygments_lexer": "ipython3",
   "version": "3.8.12"
  }
 },
 "nbformat": 4,
 "nbformat_minor": 5
}
